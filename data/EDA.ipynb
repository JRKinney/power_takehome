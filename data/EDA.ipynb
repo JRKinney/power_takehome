{
 "cells": [
  {
   "cell_type": "code",
   "execution_count": null,
   "id": "cbec7ba6-36e5-42b7-87c9-1cb1a7343115",
   "metadata": {},
   "outputs": [],
   "source": [
    "import pandas as pd\n",
    "from sklearn.preprocessing import normalize"
   ]
  },
  {
   "cell_type": "code",
   "execution_count": null,
   "id": "0cc0e9e0-21cd-4d5f-8f66-530d0e845d96",
   "metadata": {},
   "outputs": [],
   "source": [
    "df = pd.read_parquet('aemo_prices_20231228.parquet')\n",
    "df = df.sort_values('start_datetime').reset_index(drop=True)"
   ]
  },
  {
   "cell_type": "code",
   "execution_count": null,
   "id": "b6f88e20-cde3-4ce0-922a-02b9f5ef07d1",
   "metadata": {},
   "outputs": [],
   "source": [
    "# Check to see if data is all filled in\n",
    "(df['start_datetime'] - df['start_datetime'].shift(1)).apply(lambda x: x.total_seconds()).unique()\n",
    "df['time_delta_to_last'] = (df['start_datetime'] - df['start_datetime'].shift(1)).apply(lambda x: x.total_seconds())\n",
    "# No. There is a gap somewhere based on the 2100 seconds delta"
   ]
  },
  {
   "cell_type": "code",
   "execution_count": null,
   "id": "42175852-6027-4166-b6cb-59c0defd69eb",
   "metadata": {},
   "outputs": [],
   "source": [
    "df[df['time_delta_to_next']!= 300.0]\n",
    "# As expected, the first interval is NA, but before 16:30"
   ]
  },
  {
   "cell_type": "code",
   "execution_count": null,
   "id": "7f4e6e1b-09fb-4f04-a78d-47c317593925",
   "metadata": {},
   "outputs": [],
   "source": [
    "# We see here that from 1600 to 1630, we are missing prices\n",
    "df.iloc[191:194, :]"
   ]
  },
  {
   "cell_type": "code",
   "execution_count": null,
   "id": "9d91173c-620e-4bea-b8d7-98382c9356f6",
   "metadata": {},
   "outputs": [],
   "source": [
    "# All looks normal\n",
    "print('max energy price: ', df['price_energy'].max())\n",
    "print('min energy price: ', df['price_energy'].min())\n",
    "\n",
    "print('max raisereg price: ', df['price_raisereg'].max())\n",
    "print('min raisereg price: ', df['price_raisereg'].min())\n",
    "\n",
    "print('max lowerreg price: ', df['price_lowerreg'].max())\n",
    "print('min lowerreg price: ', df['price_lowerreg'].min())"
   ]
  },
  {
   "cell_type": "code",
   "execution_count": null,
   "id": "7a89b8df-0309-4556-be70-2669fd11d5cd",
   "metadata": {},
   "outputs": [],
   "source": [
    "# No nulls\n",
    "df.isna().sum()"
   ]
  },
  {
   "cell_type": "code",
   "execution_count": null,
   "id": "0e4f5a7b-7337-42a5-9c99-15b9de7c929c",
   "metadata": {},
   "outputs": [],
   "source": [
    "df = pd.read_parquet('aemo_prices_20231228_cleaned.parquet')"
   ]
  },
  {
   "cell_type": "code",
   "execution_count": null,
   "id": "2cfa2032-e617-459e-bfc3-78ca597dc976",
   "metadata": {},
   "outputs": [],
   "source": [
    "df.isna().sum()"
   ]
  }
 ],
 "metadata": {
  "kernelspec": {
   "display_name": "Python 3 (ipykernel)",
   "language": "python",
   "name": "python3"
  },
  "language_info": {
   "codemirror_mode": {
    "name": "ipython",
    "version": 3
   },
   "file_extension": ".py",
   "mimetype": "text/x-python",
   "name": "python",
   "nbconvert_exporter": "python",
   "pygments_lexer": "ipython3",
   "version": "3.11.11"
  }
 },
 "nbformat": 4,
 "nbformat_minor": 5
}
